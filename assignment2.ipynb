{
 "cells": [
  {
   "cell_type": "markdown",
   "id": "5b24ab0a",
   "metadata": {},
   "source": [
    "# TECH2 Mandatory assignment 2\n",
    "\n",
    "## About the mandatory assignment\n",
    "\n",
    "-   The assignment must be completed individually.\n",
    "-   You are allowed to use all online resources for help, including generative AI. You must include a statement on how you used AI to solve the tasks.\n",
    "-   After the assignment deadline, you must perform a peer review of two other students' assignment on Canvas. You're not allowed to use AI to write the peer-review for you.\n",
    "-   Deadline for the assignment: Friday, October 17, 16:00.\n",
    "-   Deadline for the peer review: Friday, October 24, 16:00."
   ]
  },
  {
   "cell_type": "markdown",
   "id": "969a9208",
   "metadata": {},
   "source": [
    "\n",
    "## Requirements\n",
    "\n",
    "-   Your solution needs to be uploaded to GitHub. You should fork the assignment repository at\n",
    "    [https://github.com/richardfoltyn/TECH2-H25-assignment2](https://github.com/richardfoltyn/TECH2-H25-assignment2)\n",
    "    and add your solution to this notebook.\n",
    "-   All commits in your repository must be *prior* to the deadline. \n",
    "-   You need to make sure that your GitHub repository is publicly accessible. This can be changed in the GitHub repository setttings, if required.\n",
    "-   You need to submit the URL to the your GitHub repository on Canvas.\n",
    "-   Make sure your notebook runs without errors (`Restart` and `Run all`). \n",
    "-   Your notebook *must* run with the TECH2 environment we've been using in part 2. You can create this environment from the \n",
    "    `environment.yml` file in this repository if you haven't done so earlier.\n"
   ]
  },
  {
   "cell_type": "markdown",
   "id": "07d893ad-08a1-47c4-911e-0edc3a076f22",
   "metadata": {},
   "source": [
    "## Tasks\n",
    "\n",
    "In this assignment, you are asked to analyze a 10% sub-sample of the Survey of Consumer Finances (SCF), a survey of household portfolios that is representative of the US population. The survey was administered every 3 years from 1989 to 2022. The appendix in this document contains a description of the variables present in this data set (this is a subset; the original SCF contains many more variables).\n",
    "\n",
    "1.  Data preprocessing\n",
    "\n",
    "    1.  Read the CSV file `SCF_10pct.csv` stored in this repository.\n",
    "    2.  Keep only observations where the household head is aged between 25 and 89. \n",
    "    3.  Create the column `'college'`, which contains an indicator variable that is 1 when the household head has at least some college (column `'educ'` is 3 or 4), and 0 otherwise.\n",
    "    4.  Divide the values in the column `'networth'` by 1,000 so that they are reported in thousands of US dollars.\n",
    "    5.  Report the number of observations in the final sample.\n",
    "\n",
    "2.  In this part, you're asked to analyze how net worth (total gross assets minus total debt) varies across the four education levels (no high school, high school, some college, 4-year college or more):\n",
    "\n",
    "    1.  Compute the average net worth (in thousands of US dollars) by education (use a loop).\n",
    "    2.  Create a bar chart that plots the average net worth by education.\n",
    "\n",
    "3.  In this part, you're asked to analyze how net worth has changed over the last 3 decades:\n",
    "\n",
    "    1.  Compute the average net worth (in thousands of US dollars) by survey year (use a loop).\n",
    "    2.  Create a line plot that shows the evolution of average net worth over the years 1989 to 2022.\n",
    "\n",
    "4.  Finally, combine the analyses from the previous parts to see how net worth evolved over the years for those with and without college.\n",
    "\n",
    "    1.  Compute the average net worth (in thousands of US dollars) by survey year, separately for non-college (`college=0`) and the college-educated (`college=1`).\n",
    "    2.  Create a line plot that shows the evolution of net worth over the years 1989 to 2022 by college status, i.e., your figure should contain two lines, one for college and one for non-college.\n",
    "\n",
    "Remember to add axis labels, titles, and legends (where applicable) to all your figures.\n"
   ]
  },
  {
   "cell_type": "markdown",
   "id": "05716c15",
   "metadata": {},
   "source": [
    "## Hints\n",
    "\n",
    "-   The assignment can be solved using the concepts we covered up to and including lecture/workshop 3 on Friday, October 10. \n",
    "-   In particular, you don't need `groupby()` which we'll cover later in the course, but you can instead loop over education levels or years, as needed."
   ]
  },
  {
   "cell_type": "markdown",
   "id": "b7c832de",
   "metadata": {},
   "source": [
    "1a)"
   ]
  },
  {
   "cell_type": "code",
   "execution_count": 40,
   "id": "33e489cd-02f2-413b-b44d-3a8ab11d66d7",
   "metadata": {},
   "outputs": [
    {
     "data": {
      "text/html": [
       "<div>\n",
       "<style scoped>\n",
       "    .dataframe tbody tr th:only-of-type {\n",
       "        vertical-align: middle;\n",
       "    }\n",
       "\n",
       "    .dataframe tbody tr th {\n",
       "        vertical-align: top;\n",
       "    }\n",
       "\n",
       "    .dataframe thead th {\n",
       "        text-align: right;\n",
       "    }\n",
       "</style>\n",
       "<table border=\"1\" class=\"dataframe\">\n",
       "  <thead>\n",
       "    <tr style=\"text-align: right;\">\n",
       "      <th></th>\n",
       "      <th>id</th>\n",
       "      <th>year</th>\n",
       "      <th>age</th>\n",
       "      <th>educ</th>\n",
       "      <th>networth</th>\n",
       "    </tr>\n",
       "  </thead>\n",
       "  <tbody>\n",
       "    <tr>\n",
       "      <th>0</th>\n",
       "      <td>1</td>\n",
       "      <td>1989</td>\n",
       "      <td>35</td>\n",
       "      <td>2</td>\n",
       "      <td>0.0</td>\n",
       "    </tr>\n",
       "    <tr>\n",
       "      <th>1</th>\n",
       "      <td>2</td>\n",
       "      <td>1989</td>\n",
       "      <td>35</td>\n",
       "      <td>2</td>\n",
       "      <td>0.0</td>\n",
       "    </tr>\n",
       "    <tr>\n",
       "      <th>2</th>\n",
       "      <td>3</td>\n",
       "      <td>1989</td>\n",
       "      <td>51</td>\n",
       "      <td>2</td>\n",
       "      <td>16899.9</td>\n",
       "    </tr>\n",
       "    <tr>\n",
       "      <th>3</th>\n",
       "      <td>4</td>\n",
       "      <td>1989</td>\n",
       "      <td>33</td>\n",
       "      <td>2</td>\n",
       "      <td>25845.6</td>\n",
       "    </tr>\n",
       "    <tr>\n",
       "      <th>4</th>\n",
       "      <td>5</td>\n",
       "      <td>1989</td>\n",
       "      <td>33</td>\n",
       "      <td>2</td>\n",
       "      <td>25845.6</td>\n",
       "    </tr>\n",
       "  </tbody>\n",
       "</table>\n",
       "</div>"
      ],
      "text/plain": [
       "   id  year  age  educ  networth\n",
       "0   1  1989   35     2       0.0\n",
       "1   2  1989   35     2       0.0\n",
       "2   3  1989   51     2   16899.9\n",
       "3   4  1989   33     2   25845.6\n",
       "4   5  1989   33     2   25845.6"
      ]
     },
     "execution_count": 40,
     "metadata": {},
     "output_type": "execute_result"
    }
   ],
   "source": [
    "# Importing packages\n",
    "import pandas as pd\n",
    "import matplotlib.pyplot as plt\n",
    "\n",
    "# Reading data from the CSV file\n",
    "scf_data = pd.read_csv(\"SCF_10pct.csv\")\n",
    "\n",
    "# Printing a sample. \n",
    "# I wanted to check out the columns (types of values) the dataset consists off so \n",
    "# I know what I'm going to work with. \n",
    "scf_data.head()"
   ]
  },
  {
   "cell_type": "markdown",
   "id": "4a4abce4-314b-43a5-8755-29aefd972c27",
   "metadata": {},
   "source": [
    "1b)"
   ]
  },
  {
   "cell_type": "code",
   "execution_count": 41,
   "id": "09e03906-2977-4e24-997d-4d8dafa31c2a",
   "metadata": {},
   "outputs": [
    {
     "name": "stdout",
     "output_type": "stream",
     "text": [
      "Observations where the houshold head is aged between 25 and 89 are: 5387\n"
     ]
    }
   ],
   "source": [
    "# Only keeping the observations where the household head is aged between 25 and 89. \n",
    "scf_data = scf_data.query(\"age > 25 and age < 89\")\n",
    "\n",
    "print(f\"Observations where the houshold head is aged between 25 and 89 are: {len(scf_data)}\")"
   ]
  },
  {
   "cell_type": "markdown",
   "id": "0dcefe6a-03d8-4b71-b42c-7a3c06762d33",
   "metadata": {},
   "source": [
    "1c)"
   ]
  },
  {
   "cell_type": "code",
   "execution_count": 42,
   "id": "4016aade-dcd9-487e-9781-2e77c55a6476",
   "metadata": {},
   "outputs": [
    {
     "data": {
      "text/html": [
       "<div>\n",
       "<style scoped>\n",
       "    .dataframe tbody tr th:only-of-type {\n",
       "        vertical-align: middle;\n",
       "    }\n",
       "\n",
       "    .dataframe tbody tr th {\n",
       "        vertical-align: top;\n",
       "    }\n",
       "\n",
       "    .dataframe thead th {\n",
       "        text-align: right;\n",
       "    }\n",
       "</style>\n",
       "<table border=\"1\" class=\"dataframe\">\n",
       "  <thead>\n",
       "    <tr style=\"text-align: right;\">\n",
       "      <th></th>\n",
       "      <th>id</th>\n",
       "      <th>year</th>\n",
       "      <th>age</th>\n",
       "      <th>educ</th>\n",
       "      <th>networth</th>\n",
       "      <th>college</th>\n",
       "    </tr>\n",
       "  </thead>\n",
       "  <tbody>\n",
       "    <tr>\n",
       "      <th>0</th>\n",
       "      <td>1</td>\n",
       "      <td>1989</td>\n",
       "      <td>35</td>\n",
       "      <td>2</td>\n",
       "      <td>0.0</td>\n",
       "      <td>0</td>\n",
       "    </tr>\n",
       "    <tr>\n",
       "      <th>1</th>\n",
       "      <td>2</td>\n",
       "      <td>1989</td>\n",
       "      <td>35</td>\n",
       "      <td>2</td>\n",
       "      <td>0.0</td>\n",
       "      <td>0</td>\n",
       "    </tr>\n",
       "    <tr>\n",
       "      <th>2</th>\n",
       "      <td>3</td>\n",
       "      <td>1989</td>\n",
       "      <td>51</td>\n",
       "      <td>2</td>\n",
       "      <td>16899.9</td>\n",
       "      <td>0</td>\n",
       "    </tr>\n",
       "    <tr>\n",
       "      <th>3</th>\n",
       "      <td>4</td>\n",
       "      <td>1989</td>\n",
       "      <td>33</td>\n",
       "      <td>2</td>\n",
       "      <td>25845.6</td>\n",
       "      <td>0</td>\n",
       "    </tr>\n",
       "    <tr>\n",
       "      <th>4</th>\n",
       "      <td>5</td>\n",
       "      <td>1989</td>\n",
       "      <td>33</td>\n",
       "      <td>2</td>\n",
       "      <td>25845.6</td>\n",
       "      <td>0</td>\n",
       "    </tr>\n",
       "  </tbody>\n",
       "</table>\n",
       "</div>"
      ],
      "text/plain": [
       "   id  year  age  educ  networth  college\n",
       "0   1  1989   35     2       0.0        0\n",
       "1   2  1989   35     2       0.0        0\n",
       "2   3  1989   51     2   16899.9        0\n",
       "3   4  1989   33     2   25845.6        0\n",
       "4   5  1989   33     2   25845.6        0"
      ]
     },
     "execution_count": 42,
     "metadata": {},
     "output_type": "execute_result"
    }
   ],
   "source": [
    "# Creating a college column to represent houehold heads that have at least some college\n",
    "scf_data[\"college\"] = (scf_data[\"educ\"] >= 3).astype(int)\n",
    "\n",
    "#Printing the tail here since the head only consisted of household heads with educ of level 2\n",
    "scf_data.head()"
   ]
  },
  {
   "cell_type": "markdown",
   "id": "bb5ee033-acbd-437d-98e4-d49096e2ffaf",
   "metadata": {},
   "source": [
    "1d)"
   ]
  },
  {
   "cell_type": "code",
   "execution_count": 43,
   "id": "5b3cef27-baec-46ca-b011-8a3718b420ba",
   "metadata": {},
   "outputs": [
    {
     "data": {
      "text/html": [
       "<div>\n",
       "<style scoped>\n",
       "    .dataframe tbody tr th:only-of-type {\n",
       "        vertical-align: middle;\n",
       "    }\n",
       "\n",
       "    .dataframe tbody tr th {\n",
       "        vertical-align: top;\n",
       "    }\n",
       "\n",
       "    .dataframe thead th {\n",
       "        text-align: right;\n",
       "    }\n",
       "</style>\n",
       "<table border=\"1\" class=\"dataframe\">\n",
       "  <thead>\n",
       "    <tr style=\"text-align: right;\">\n",
       "      <th></th>\n",
       "      <th>id</th>\n",
       "      <th>year</th>\n",
       "      <th>age</th>\n",
       "      <th>educ</th>\n",
       "      <th>networth</th>\n",
       "      <th>college</th>\n",
       "    </tr>\n",
       "  </thead>\n",
       "  <tbody>\n",
       "    <tr>\n",
       "      <th>5803</th>\n",
       "      <td>5804</td>\n",
       "      <td>2022</td>\n",
       "      <td>57</td>\n",
       "      <td>2</td>\n",
       "      <td>129.101</td>\n",
       "      <td>0</td>\n",
       "    </tr>\n",
       "    <tr>\n",
       "      <th>5804</th>\n",
       "      <td>5805</td>\n",
       "      <td>2022</td>\n",
       "      <td>80</td>\n",
       "      <td>4</td>\n",
       "      <td>747.400</td>\n",
       "      <td>1</td>\n",
       "    </tr>\n",
       "    <tr>\n",
       "      <th>5805</th>\n",
       "      <td>5806</td>\n",
       "      <td>2022</td>\n",
       "      <td>67</td>\n",
       "      <td>4</td>\n",
       "      <td>7354.760</td>\n",
       "      <td>1</td>\n",
       "    </tr>\n",
       "    <tr>\n",
       "      <th>5806</th>\n",
       "      <td>5807</td>\n",
       "      <td>2022</td>\n",
       "      <td>70</td>\n",
       "      <td>4</td>\n",
       "      <td>3229.000</td>\n",
       "      <td>1</td>\n",
       "    </tr>\n",
       "    <tr>\n",
       "      <th>5807</th>\n",
       "      <td>5808</td>\n",
       "      <td>2022</td>\n",
       "      <td>55</td>\n",
       "      <td>4</td>\n",
       "      <td>818.100</td>\n",
       "      <td>1</td>\n",
       "    </tr>\n",
       "  </tbody>\n",
       "</table>\n",
       "</div>"
      ],
      "text/plain": [
       "        id  year  age  educ  networth  college\n",
       "5803  5804  2022   57     2   129.101        0\n",
       "5804  5805  2022   80     4   747.400        1\n",
       "5805  5806  2022   67     4  7354.760        1\n",
       "5806  5807  2022   70     4  3229.000        1\n",
       "5807  5808  2022   55     4   818.100        1"
      ]
     },
     "execution_count": 43,
     "metadata": {},
     "output_type": "execute_result"
    }
   ],
   "source": [
    "#Values in the column networth reported in thousands of US dollars.\n",
    "scf_data[\"networth\"] = (scf_data[\"networth\"] / 1000)\n",
    "scf_data.tail()"
   ]
  },
  {
   "cell_type": "markdown",
   "id": "13853866-f3af-4894-b976-8d1b66cad394",
   "metadata": {},
   "source": [
    "1e)"
   ]
  },
  {
   "cell_type": "code",
   "execution_count": 44,
   "id": "3ebc56dc-e395-4b2a-beec-8dd357d05d0f",
   "metadata": {},
   "outputs": [
    {
     "name": "stdout",
     "output_type": "stream",
     "text": [
      "The number of observations in the final sample are: 5387\n"
     ]
    }
   ],
   "source": [
    "print(f\"The number of observations in the final sample are: {len(scf_data)}\")"
   ]
  },
  {
   "cell_type": "markdown",
   "id": "c92ec0b4-8b49-4962-be84-942d0f33e09d",
   "metadata": {},
   "source": [
    "2a)"
   ]
  },
  {
   "cell_type": "code",
   "execution_count": 45,
   "id": "9b2ae70c-0e09-4d3a-b594-2a759f616b24",
   "metadata": {},
   "outputs": [],
   "source": [
    "# For this task I decided to creating an education dictionary \n",
    "# that will store all the networths in lists distributed along the respective education levels\n",
    "educ_dict = {}\n",
    "\n",
    "# Looping through the educaiton levels and distributing the networths based on row index\n",
    "for index, educ_level in scf_data[\"educ\"].items():\n",
    "    networth = scf_data[\"networth\"][index]\n",
    "\n",
    "    # If education level has not been observed in the dict, add it\n",
    "    if educ_level not in educ_dict:\n",
    "        educ_dict[educ_level] = []\n",
    "\n",
    "    # Adding the networth\n",
    "    educ_dict[educ_level].append(networth)"
   ]
  },
  {
   "cell_type": "code",
   "execution_count": 46,
   "id": "b12507a2-57a2-412f-8a1c-51197762cac1",
   "metadata": {},
   "outputs": [
    {
     "name": "stdout",
     "output_type": "stream",
     "text": [
      "The average net worth (in thousands of US dollars) by education level is:\n",
      "Education level 1: 154.97\n",
      "Education level 2: 278.78\n",
      "Education level 3: 1129.06\n",
      "Education level 4: 1696.77\n"
     ]
    }
   ],
   "source": [
    "# Compute the average net worth (in thousands of US dollars) by education.\n",
    "import statistics\n",
    "\n",
    "# You can also just take the sum of the list divided by the len of the list to compute the average\n",
    "# but using the statistics package is cleaner in my opinion, so I just used that.\n",
    "avg_networth_el_1 = statistics.mean(educ_dict[1])\n",
    "avg_networth_el_2 = statistics.mean(educ_dict[2])\n",
    "avg_networth_el_3 = statistics.mean(educ_dict[3])\n",
    "avg_networth_el_4 = statistics.mean(educ_dict[4])\n",
    "\n",
    "print(\"The average net worth (in thousands of US dollars) by education level is:\")\n",
    "print(f\"Education level 1: {avg_networth_el_1:.2f}\")\n",
    "print(f\"Education level 2: {avg_networth_el_2:.2f}\")\n",
    "print(f\"Education level 3: {avg_networth_el_3:.2f}\")\n",
    "print(f\"Education level 4: {avg_networth_el_4:.2f}\")"
   ]
  },
  {
   "cell_type": "markdown",
   "id": "1d947f1e-5a03-4aa3-bd9a-b6036977ad7c",
   "metadata": {},
   "source": [
    "2b)"
   ]
  },
  {
   "cell_type": "code",
   "execution_count": 47,
   "id": "f79d3a7e-eccd-46db-992b-b4b7a459e413",
   "metadata": {},
   "outputs": [
    {
     "data": {
      "image/png": "[encoded data removed]",
      "text/plain": [
       "<Figure size 640x480 with 1 Axes>"
      ]
     },
     "metadata": {},
     "output_type": "display_data"
    }
   ],
   "source": [
    "# Createing a bar chart that to display the average net worth by education\n",
    "education_levels = sorted(list(educ_dict.keys()))\n",
    "avg_networths_by_level = [avg_networth_el_1, avg_networth_el_2, avg_networth_el_3, avg_networth_el_4]\n",
    "\n",
    "plt.bar(education_levels, avg_networths_by_level)\n",
    "plt.title(\"Average Networth by Education Level\")\n",
    "plt.xlabel(\"Educaiton level\")\n",
    "plt.ylabel(\"Average networth (1000 of USD)\")\n",
    "plt.show()"
   ]
  },
  {
   "cell_type": "markdown",
   "id": "1dcfd86e-bb1b-4dde-b666-4067636a7592",
   "metadata": {},
   "source": [
    "3a)"
   ]
  },
  {
   "cell_type": "code",
   "execution_count": 48,
   "id": "878b7d40-a647-41c1-81eb-932586827ce3",
   "metadata": {},
   "outputs": [],
   "source": [
    "# Took a similair approach as in task 2 when it came to the distribution to numbers\n",
    "year_dict = {}\n",
    "\n",
    "# Looping through survey years and distributing the networths based on along the years\n",
    "for index, year in scf_data[\"year\"].items():\n",
    "    networth = scf_data[\"networth\"][index]\n",
    "    \n",
    "    if year not in year_dict:\n",
    "        year_dict[year] = []\n",
    "\n",
    "    year_dict[year].append(networth)"
   ]
  },
  {
   "cell_type": "code",
   "execution_count": 49,
   "id": "e42403ea-30d4-4b06-949d-b4a3a6277a26",
   "metadata": {},
   "outputs": [
    {
     "name": "stdout",
     "output_type": "stream",
     "text": [
      "The average net worth (in thousands of US dollars) by year is:\n",
      "Year  Networth\n",
      "1989   891.38\n",
      "1992   387.89\n",
      "1995   491.60\n",
      "1998   922.91\n",
      "2001   517.78\n",
      "2004   728.19\n",
      "2007   1494.03\n",
      "2010   615.88\n",
      "2013   920.09\n",
      "2016   902.96\n",
      "2019   746.72\n",
      "2022   2492.88\n"
     ]
    }
   ],
   "source": [
    "# But decided to calculate and save the average networths by year immeditalty for easier usage later\n",
    "import numpy as np #imported numpy to make the networths elements iterable\n",
    "\n",
    "for year, networths in year_dict.items():\n",
    "    year_dict[year] = statistics.mean(np.array(networths))\n",
    "\n",
    "print(\"The average net worth (in thousands of US dollars) by year is:\")\n",
    "print(\"Year  Networth\")  \n",
    "for year, avg_networth in year_dict.items():\n",
    "    print(f\"{year}   {avg_networth:.2f}\")"
   ]
  },
  {
   "cell_type": "markdown",
   "id": "41343db9-3345-4c51-8735-181150eb0023",
   "metadata": {},
   "source": [
    "3b)"
   ]
  },
  {
   "cell_type": "code",
   "execution_count": 50,
   "id": "b3d3b13c-dccd-4620-b2dd-7556451c4752",
   "metadata": {},
   "outputs": [
    {
     "data": {
      "image/png": "[encoded data removed]",
      "text/plain": [
       "<Figure size 640x480 with 1 Axes>"
      ]
     },
     "metadata": {},
     "output_type": "display_data"
    }
   ],
   "source": [
    "# Creating the line plot that shows the evolution of average net worth over the period 1989-2022.\n",
    "plt.plot(year_dict.keys(), year_dict.values())\n",
    "plt.title(\"Evolution of average net worth from 1989 to 2022\")\n",
    "plt.xlabel(\"Year\")\n",
    "plt.ylabel(\"Networth (In 1000 USD)\")\n",
    "plt.show()"
   ]
  },
  {
   "cell_type": "markdown",
   "id": "29a4305a-5b04-4d13-be97-c4d4e6ee21b2",
   "metadata": {},
   "source": [
    "4a)"
   ]
  },
  {
   "cell_type": "code",
   "execution_count": 51,
   "id": "3bd353a4-386f-4ba0-b391-ca7621860269",
   "metadata": {},
   "outputs": [],
   "source": [
    "# Compute the average net worth (in thousands of US dollars) by survey year, separately for\n",
    "# non-college (college=0) and the college-educated (college=1).\n",
    "\n",
    "# Took a similair approach as in task 2 when it came to the distribution to numbers\n",
    "avg_networth_for_college_educated_by_year = {}\n",
    "avg_networth_for_non_college_educated_by_year = {}\n",
    "\n",
    "# Choose to try out the iterrows() method this time. As the name describes, it iterates over the rows in the data frame\n",
    "for _, row in scf_data.iterrows():\n",
    "    \n",
    "    networth = row[\"networth\"]\n",
    "    year = row[\"year\"]\n",
    "    college_educ = row[\"college\"]\n",
    "\n",
    "    if year not in avg_networth_for_college_educated_by_year:\n",
    "        avg_networth_for_college_educated_by_year[year] = []\n",
    "\n",
    "    if year not in avg_networth_for_non_college_educated_by_year:\n",
    "        avg_networth_for_non_college_educated_by_year[year] = []\n",
    "\n",
    "    if college_educ == 1:\n",
    "        avg_networth_for_college_educated_by_year[year].append(networth)\n",
    "    else:\n",
    "        avg_networth_for_non_college_educated_by_year[year].append(networth)"
   ]
  },
  {
   "cell_type": "code",
   "execution_count": 52,
   "id": "f874bd53-e7b3-4d68-9d3c-6d7d5eaa0ad3",
   "metadata": {},
   "outputs": [],
   "source": [
    "# Computing the average net worth (in 1000's of US dollars) by survey year,\n",
    "# separately for non-college and the college-educated.\n",
    "\n",
    "for year, networths in avg_networth_for_college_educated_by_year.items():\n",
    "    avg_networth_for_college_educated_by_year[year] = statistics.mean(np.array(networths))\n",
    "\n",
    "for year, networths in avg_networth_for_non_college_educated_by_year.items():\n",
    "    avg_networth_for_non_college_educated_by_year[year] = statistics.mean(np.array(networths))"
   ]
  },
  {
   "cell_type": "markdown",
   "id": "57fc9b16-d744-446a-ae10-4a671e6f7711",
   "metadata": {},
   "source": [
    "4b)"
   ]
  },
  {
   "cell_type": "code",
   "execution_count": 59,
   "id": "0dc120ea-b29a-4899-982b-6765646c0c30",
   "metadata": {},
   "outputs": [
    {
     "data": {
      "image/png": "[encoded data removed]",
      "text/plain": [
       "<Figure size 640x480 with 1 Axes>"
      ]
     },
     "metadata": {},
     "output_type": "display_data"
    }
   ],
   "source": [
    "# Creating a line plot that shows the evolution of net worth over the years 1989 to 2022 by college status, \n",
    "# i.e., your figure should contain two lines, one for college and one for non-college.\n",
    "plt.plot(avg_networth_for_college_educated_by_year.keys(), avg_networth_for_college_educated_by_year.values(), label= \"College educated\")\n",
    "plt.plot(avg_networth_for_non_college_educated_by_year.keys(), avg_networth_for_non_college_educated_by_year.values(), label= \"Non-College educated\")\n",
    "plt.title(\"Evolution of average net worth from 1989 to 2022 by College Status\")\n",
    "plt.xlabel(\"Year\")\n",
    "plt.ylabel(\"Networth (In 1000 USD)\")\n",
    "plt.legend(loc=\"upper left\", title=\"College Status\", frameon=False)\n",
    "plt.show()"
   ]
  },
  {
   "cell_type": "raw",
   "id": "b4d81978-3ee6-4d14-b977-65cdb92d2531",
   "metadata": {
    "jupyter": {
     "source_hidden": true
    }
   },
   "source": [
    "***\n",
    "# Data description"
   ]
  },
  {
   "cell_type": "markdown",
   "id": "ee90f234",
   "metadata": {},
   "source": [
    "## Variables\n",
    "\n",
    "| Variable         | Description |\n",
    "|------------------|-------------|\n",
    "| id               | Identifier  |\n",
    "| year             | Survey year |\n",
    "| age             | Age of reference person (household head) |\n",
    "| educ            | Education of reference person (1 = no high school/GED, 2 = high school or GED, 3 = some college or Assoc. degree, 4 = Bachelors degree or higher)|\n",
    "| networth        | Net worth in US dollars |"
   ]
  },
  {
   "cell_type": "markdown",
   "id": "339882d9",
   "metadata": {},
   "source": [
    "## Reference\n",
    "\n",
    "- URL: https://www.federalreserve.gov/econres/scfindex.htm\n",
    "- DOI Identifier: https://doi.org/10.17016/8799\n",
    "- Creator: Board of Governors of the Federal Reserve Board\n",
    "- Name: 2022 Survey of Consumer Finances\n",
    "- Description:\n",
    "    The Survey of Consumer Finances (SCF) is normally a triennial cross-sectional survey of U.S. families. The survey data include information on families' balance sheets, pensions, income, and demographic characteristics.\n",
    "- Publisher: Board of Governors of the Federal Reserve System\n",
    "- Publication Year: 2023 "
   ]
  }
 ],
 "metadata": {
  "kernelspec": {
   "display_name": "Python 3 (ipykernel)",
   "language": "python",
   "name": "python3"
  },
  "language_info": {
   "codemirror_mode": {
    "name": "ipython",
    "version": 3
   },
   "file_extension": ".py",
   "mimetype": "text/x-python",
   "name": "python",
   "nbconvert_exporter": "python",
   "pygments_lexer": "ipython3",
   "version": "3.13.5"
  }
 },
 "nbformat": 4,
 "nbformat_minor": 5
}
